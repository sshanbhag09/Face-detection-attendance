{
 "cells": [
  {
   "cell_type": "code",
   "execution_count": 1,
   "metadata": {},
   "outputs": [],
   "source": [
    "import csv\n",
    "import os, cv2\n",
    "import numpy as np\n",
    "import pandas as pd\n",
    "import datetime\n",
    "import time\n",
    "from PIL import ImageTk, Image\n",
    "\n",
    "\n",
    "# Train Image\n",
    "def TrainImage(haarcasecade_path, trainimage_path, trainimagelabel_path, message,text_to_speech):\n",
    "    recognizer = cv2.face.LBPHFaceRecognizer_create()\n",
    "    detector = cv2.CascadeClassifier(haarcasecade_path)\n",
    "    faces, Id = getImagesAndLables(trainimage_path)\n",
    "    recognizer.train(faces, np.array(Id))\n",
    "    recognizer.save(trainimagelabel_path)\n",
    "    res = \"Image Trained successfully\"  # +\",\".join(str(f) for f in Id)\n",
    "    message.configure(text=res)\n",
    "    text_to_speech(res)\n",
    "\n",
    "\n",
    "def getImagesAndLables(path):\n",
    "    # imagePath = [os.path.join(path, f) for d in os.listdir(path) for f in d]\n",
    "    newdir = [os.path.join(path, d) for d in os.listdir(path)]\n",
    "    imagePath = [\n",
    "        os.path.join(newdir[i], f)\n",
    "        for i in range(len(newdir))\n",
    "        for f in os.listdir(newdir[i])\n",
    "    ]\n",
    "    faces = []\n",
    "    Ids = []\n",
    "    for imagePath in imagePath:\n",
    "        pilImage = Image.open(imagePath).convert(\"L\")\n",
    "        imageNp = np.array(pilImage, \"uint8\")\n",
    "        Id = int(os.path.split(imagePath)[-1].split(\"_\")[1])\n",
    "        faces.append(imageNp)\n",
    "        Ids.append(Id)\n",
    "    return faces, Ids\n"
   ]
  },
  {
   "cell_type": "code",
   "execution_count": null,
   "metadata": {},
   "outputs": [],
   "source": []
  }
 ],
 "metadata": {
  "kernelspec": {
   "display_name": "Python 3",
   "language": "python",
   "name": "python3"
  },
  "language_info": {
   "codemirror_mode": {
    "name": "ipython",
    "version": 3
   },
   "file_extension": ".py",
   "mimetype": "text/x-python",
   "name": "python",
   "nbconvert_exporter": "python",
   "pygments_lexer": "ipython3",
   "version": "3.8.5"
  }
 },
 "nbformat": 4,
 "nbformat_minor": 4
}
