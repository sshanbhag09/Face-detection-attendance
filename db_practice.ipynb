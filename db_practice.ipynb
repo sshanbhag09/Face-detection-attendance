{
 "cells": [
  {
   "cell_type": "code",
   "execution_count": null,
   "metadata": {},
   "outputs": [],
   "source": [
    "import os\n",
    "\n",
    "path = \"C:\\\\Users\\\\sshan\\\\(1)Attendance-Management-system-using-face-recognition-master\\\\TrainingImage\"\n",
    "\n",
    "# imagePath = [os.path.join(path, f) for f in os.listdir(path)]\n",
    "for d in os.listdir(path):\n",
    "    newdir = os.path.join(path, d)\n",
    "    print(newdir)\n",
    "    imagePath = [os.path.join(newdir, f) for f in os.listdir(newdir)]\n",
    "print(imagePath)\n"
   ]
  }
 ],
 "metadata": {
  "kernelspec": {
   "display_name": "Python 3",
   "language": "python",
   "name": "python3"
  },
  "language_info": {
   "codemirror_mode": {
    "name": "ipython",
    "version": 3
   },
   "file_extension": ".py",
   "mimetype": "text/x-python",
   "name": "python",
   "nbconvert_exporter": "python",
   "pygments_lexer": "ipython3",
   "version": "3.8.5"
  }
 },
 "nbformat": 4,
 "nbformat_minor": 4
}
